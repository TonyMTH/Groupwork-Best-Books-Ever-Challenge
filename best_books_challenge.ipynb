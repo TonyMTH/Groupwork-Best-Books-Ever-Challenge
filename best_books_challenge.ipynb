{
 "cells": [
  {
   "cell_type": "markdown",
   "metadata": {},
   "source": [
    "# BEST BOOKS CHALLENGE"
   ]
  },
  {
   "cell_type": "code",
   "execution_count": 1,
   "metadata": {},
   "outputs": [],
   "source": [
    "import pandas as pd"
   ]
  },
  {
   "cell_type": "code",
   "execution_count": 2,
   "metadata": {},
   "outputs": [
    {
     "name": "stdout",
     "output_type": "stream",
     "text": [
      "====================page(3)====================\n"
     ]
    }
   ],
   "source": [
    "#Keep running untill 5000 items are scrapped\n",
    "trial = 0\n",
    "while True:\n",
    "    try:\n",
    "        import scrapper\n",
    "    except:\n",
    "        trial +=1\n",
    "        print(\"\\nNo of trials: \"+str(trial))\n",
    "    \n",
    "    df = pd.read_csv('best-books.csv')\n",
    "    next_row = df.shape[0]\n",
    "\n",
    "    if next_row >= 5000:\n",
    "        break\n",
    "    "
   ]
  },
  {
   "cell_type": "markdown",
   "metadata": {},
   "source": [
    "## Load the csv file below"
   ]
  },
  {
   "cell_type": "code",
   "execution_count": null,
   "metadata": {},
   "outputs": [],
   "source": [
    "df = pd.read_csv('best-books.csv')\n",
    "print(\"\\nData Shape: \",df.shape)\n",
    "print(df.head())"
   ]
  },
  {
   "cell_type": "code",
   "execution_count": null,
   "metadata": {},
   "outputs": [],
   "source": []
  }
 ],
 "metadata": {
  "interpreter": {
   "hash": "2f9376a53bea67c1ed5cf17fe4a618ec842560647dcd0f876afebe1c5f60995f"
  },
  "kernelspec": {
   "display_name": "Python 3.8.11 64-bit ('strive': conda)",
   "name": "python3"
  },
  "language_info": {
   "codemirror_mode": {
    "name": "ipython",
    "version": 3
   },
   "file_extension": ".py",
   "mimetype": "text/x-python",
   "name": "python",
   "nbconvert_exporter": "python",
   "pygments_lexer": "ipython3",
   "version": "3.8.11"
  }
 },
 "nbformat": 4,
 "nbformat_minor": 4
}
