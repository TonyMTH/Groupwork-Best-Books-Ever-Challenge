{
 "cells": [
  {
   "cell_type": "markdown",
   "metadata": {},
   "source": [
    "# ANALYSIS"
   ]
  },
  {
   "cell_type": "code",
   "execution_count": null,
   "metadata": {},
   "outputs": [],
   "source": [
    "import pandas as pd\n",
    "import ast\n",
    "import numpy as np"
   ]
  },
  {
   "cell_type": "markdown",
   "metadata": {},
   "source": [
    "## Load the csv file"
   ]
  },
  {
   "cell_type": "code",
   "execution_count": null,
   "metadata": {},
   "outputs": [],
   "source": [
    "df = pd.read_csv('best-books.csv') \n",
    "# print(df.head(10))\n",
    "#print(\"\\nData Shape: \",df.shape)\n",
    "\n"
   ]
  },
  {
   "cell_type": "code",
   "execution_count": null,
   "metadata": {},
   "outputs": [],
   "source": [
    "df2 = df.head(50)\n",
    "df2 = df2.replace({'awards': {np.nan: 0}})\n",
    "print(df2['avg_rating'])\n",
    "\n",
    "# col = list([df2['awards']])\n",
    "# length = len (col)\n",
    "# print(length)\n",
    "\n",
    "# print(len(df2['awards'][0]))\n",
    "\n",
    "# #d=df[['awards']].apply(lambda x: len(ast.literal_eval(df['places'][0])))\n",
    "\n",
    "# #df['awards'].isnull()\n",
    "\n",
    "# for i in df.index:\n",
    "#     #df.loc[i, \"awards\"] = len( ast.literal_eval(df.loc[i, \"awards\"]) )\n",
    "#     # print(df.loc[i, \"awards\"])\n",
    "#     if df.loc[i, \"awards\"] == 0:\n",
    "#         print(0)\n",
    "#     else:\n",
    "#         print(len( ast.literal_eval(df.loc[i, \"awards\"]) ))\n",
    "\n",
    "# l=len(ast.literal_eval(df2[\"awards\"]))\n",
    "# l\n",
    "\n",
    "# df2['awards'][0] = l\n",
    "# print(df2['awards'][0])\n",
    "# print(df2['awards'])\n",
    "\n",
    "# for i in range(len(df2['awards'])):\n",
    "#     l=len(ast.literal_eval(df2.loc[i, \"awards\"]))\n",
    "#     df2['awards'][i] = l\n",
    "# print(df2['awards'])\n"
   ]
  },
  {
   "cell_type": "code",
   "execution_count": null,
   "metadata": {},
   "outputs": [],
   "source": [
    "# min max normalization\n",
    "df_min_max = df2['avg_rating'].copy()\n",
    "def min_max_normalization(df_min_max):\n",
    "    df_min_max = 1 + (df_min_max - df_min_max.min()) / (df_min_max.max() - df_min_max.min()) * 9\n",
    "    return round(df_min_max, 2)\n",
    "\n",
    "minmax_norm_ratings = min_max_normalization(df_min_max)\n",
    "print(minmax_norm_ratings)\n",
    "df2['minmax_norm_ratings'] = minmax_norm_ratings\n",
    "print(df2)\n"
   ]
  },
  {
   "cell_type": "code",
   "execution_count": null,
   "metadata": {},
   "outputs": [],
   "source": [
    "# mean normalization\n",
    "def mean_normalization(df_min_max):\n",
    "    df_min_max = 1 + (df_min_max - df_min_max.mean()) / (df_min_max.max() - df_min_max.min()) * 9\n",
    "    return round(df_min_max, 2)\n",
    "\n",
    "mean_norm_ratings = mean_normalization(df_min_max)\n",
    "df2['mean_norm_ratings'] = mean_norm_ratings\n",
    "print(df2)"
   ]
  },
  {
   "cell_type": "code",
   "execution_count": null,
   "metadata": {},
   "outputs": [],
   "source": [
    "# group by publishing year\n",
    "# sort by min max norm ratings\n",
    "\n",
    "def check_author(df, author):\n",
    "    df = df.loc[df.author == author]\n",
    "    df.sort_values(by=['minmax_norm_ratings'], ascending=[False])\n",
    "    return df\n",
    "\n",
    "check_author(df2, 'J.K. Rowling')"
   ]
  },
  {
   "cell_type": "code",
   "execution_count": null,
   "metadata": {},
   "outputs": [],
   "source": []
  }
 ],
 "metadata": {
  "interpreter": {
   "hash": "d6e128dd2cf9bb12ecf94668e33e1546608d302a4f44df6f6afa2b8f73a532e1"
  },
  "kernelspec": {
   "display_name": "Python 3.9.7 64-bit ('Strive': conda)",
   "name": "python3"
  },
  "language_info": {
   "codemirror_mode": {
    "name": "ipython",
    "version": 3
   },
   "file_extension": ".py",
   "mimetype": "text/x-python",
   "name": "python",
   "nbconvert_exporter": "python",
   "pygments_lexer": "ipython3",
   "version": "3.9.7"
  }
 },
 "nbformat": 4,
 "nbformat_minor": 4
}
