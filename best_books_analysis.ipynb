{
 "cells": [
  {
   "cell_type": "markdown",
   "metadata": {},
   "source": [
    "# ANALYSIS"
   ]
  },
  {
   "cell_type": "code",
   "execution_count": 2,
   "metadata": {},
   "outputs": [],
   "source": [
    "import pandas as pd\n",
    "import ast\n",
    "import numpy as np"
   ]
  },
  {
   "cell_type": "markdown",
   "metadata": {},
   "source": [
    "# Load the csv file"
   ]
  },
  {
   "cell_type": "code",
   "execution_count": 3,
   "metadata": {},
   "outputs": [],
   "source": [
    "df = pd.read_csv('best-books.csv') "
   ]
  },
  {
   "cell_type": "markdown",
   "metadata": {},
   "source": [
    "# Change the awards col into num of awards:"
   ]
  },
  {
   "cell_type": "code",
   "execution_count": 4,
   "metadata": {},
   "outputs": [],
   "source": [
    "df2 = df.head(50)\n",
    "df2 = df2.replace({'awards': {np.nan: 0}})\n",
    "\n",
    "d = []\n",
    "\n",
    "for i in df2.index:\n",
    "    if df2.loc[i, \"awards\"] == 0:\n",
    "        d.append(0)\n",
    "    else:\n",
    "        d.append( len( ast.literal_eval(df2.loc[i, \"awards\"]) ) )\n",
    "\n",
    "df2['awards length'] = d\n",
    "# df2['awards length'].sum()"
   ]
  },
  {
   "cell_type": "markdown",
   "metadata": {},
   "source": [
    "# min max normalization"
   ]
  },
  {
   "cell_type": "code",
   "execution_count": 5,
   "metadata": {},
   "outputs": [],
   "source": [
    "df_min_max = df2['avg_rating'].copy()\n",
    "def min_max_normalization(df_min_max):\n",
    "    df_min_max = 1 + (df_min_max - df_min_max.min()) / (df_min_max.max() - df_min_max.min()) * 9\n",
    "    return round(df_min_max, 2)\n",
    "\n",
    "minmax_norm_ratings = min_max_normalization(df_min_max)\n",
    "# print(minmax_norm_ratings)\n",
    "df2['minmax_norm_ratings'] = minmax_norm_ratings\n",
    "# print(df2)\n"
   ]
  },
  {
   "cell_type": "markdown",
   "metadata": {},
   "source": [
    "# mean normalization"
   ]
  },
  {
   "cell_type": "code",
   "execution_count": 6,
   "metadata": {},
   "outputs": [],
   "source": [
    "def mean_normalization(df_min_max):\n",
    "    df_min_max = 1 + (df_min_max - df_min_max.mean()) / (df_min_max.max() - df_min_max.min()) * 9\n",
    "    return round(df_min_max, 2)\n",
    "\n",
    "mean_norm_ratings = mean_normalization(df_min_max)\n",
    "df2['mean_norm_ratings'] = mean_norm_ratings\n",
    "# print(df2)"
   ]
  },
  {
   "cell_type": "markdown",
   "metadata": {},
   "source": [
    "# sort by minmax_norm_ratings Given Author"
   ]
  },
  {
   "cell_type": "code",
   "execution_count": 7,
   "metadata": {},
   "outputs": [],
   "source": [
    "def check_author(df, author):\n",
    "    df = df.loc[df.author == author]\n",
    "    df.sort_values(by=['minmax_norm_ratings'], ascending=[False])\n",
    "    return df\n",
    "\n",
    "# check_author(df2, 'J.K. Rowling')"
   ]
  },
  {
   "cell_type": "markdown",
   "metadata": {},
   "source": [
    "# sort by publishing year and get mean of minmax_norm_ratings"
   ]
  },
  {
   "cell_type": "code",
   "execution_count": null,
   "metadata": {},
   "outputs": [],
   "source": [
    "df2.groupby('original_publish_year')['minmax_norm_ratings'].mean()"
   ]
  },
  {
   "cell_type": "markdown",
   "metadata": {},
   "source": [
    "# sort by author and check who has highest average rating"
   ]
  },
  {
   "cell_type": "code",
   "execution_count": null,
   "metadata": {},
   "outputs": [],
   "source": [
    "df2.groupby('author')['minmax_norm_ratings'].mean().sort_values( ascending=False)"
   ]
  },
  {
   "cell_type": "markdown",
   "metadata": {},
   "source": [
    "# sort by genre and check ratings"
   ]
  },
  {
   "cell_type": "code",
   "execution_count": null,
   "metadata": {},
   "outputs": [],
   "source": [
    "# NEED TO SEE HOW THIS BEHAVES WITH 3 VALUES=3 GENRES\n",
    "df2.groupby('genres')['minmax_norm_ratings'].mean().sort_values( ascending=False)"
   ]
  },
  {
   "cell_type": "markdown",
   "metadata": {},
   "source": [
    "# sort no of awards by author"
   ]
  },
  {
   "cell_type": "code",
   "execution_count": null,
   "metadata": {},
   "outputs": [],
   "source": [
    "# df2['awards length']\n",
    "df2.sort_values(by=['awards length', 'author'], ascending=[False, True])"
   ]
  },
  {
   "cell_type": "markdown",
   "metadata": {},
   "source": [
    "# sort by minmax_norm_ratings Given Year of publication"
   ]
  },
  {
   "cell_type": "code",
   "execution_count": null,
   "metadata": {},
   "outputs": [],
   "source": [
    "def check_year(df, year):\n",
    "    df = df.loc[df.original_publish_year == year]\n",
    "    df.sort_values(by=['minmax_norm_ratings'], ascending=[False])\n",
    "    return df\n",
    "\n",
    "# check_year(df2, 2005)"
   ]
  },
  {
   "cell_type": "markdown",
   "metadata": {},
   "source": [
    "# check if book series are rated better than non series books"
   ]
  },
  {
   "cell_type": "code",
   "execution_count": null,
   "metadata": {},
   "outputs": [],
   "source": [
    "df2.groupby('series')['minmax_norm_ratings'].mean()"
   ]
  },
  {
   "cell_type": "markdown",
   "metadata": {},
   "source": [
    "# WORK IN PROGRESS - check what place is more commonly reffered to in these books"
   ]
  },
  {
   "cell_type": "code",
   "execution_count": 23,
   "metadata": {},
   "outputs": [],
   "source": [
    "df2 = df2.replace({'places': {'nan': 0}})\n",
    "# print(df2['places'])\n",
    "\n",
    "# dictt = []\n",
    "# for i in df2.index:\n",
    "#     if df2.loc[i, \"places\"] == 0:\n",
    "#         dictt.append(0)\n",
    "#     else:\n",
    "#         dictt.append( ast.literal_eval(df2.loc[i, \"places\"]) )\n",
    "\n",
    "# df2['places_new'] = dictt\n",
    "# print(df2['places_new'])\n",
    "\n",
    "# df2.groupby('places').size()"
   ]
  },
  {
   "cell_type": "code",
   "execution_count": null,
   "metadata": {},
   "outputs": [],
   "source": []
  }
 ],
 "metadata": {
  "interpreter": {
   "hash": "d6e128dd2cf9bb12ecf94668e33e1546608d302a4f44df6f6afa2b8f73a532e1"
  },
  "kernelspec": {
   "display_name": "Python 3.9.7 64-bit ('Strive': conda)",
   "name": "python3"
  },
  "language_info": {
   "codemirror_mode": {
    "name": "ipython",
    "version": 3
   },
   "file_extension": ".py",
   "mimetype": "text/x-python",
   "name": "python",
   "nbconvert_exporter": "python",
   "pygments_lexer": "ipython3",
   "version": "3.9.7"
  }
 },
 "nbformat": 4,
 "nbformat_minor": 4
}
