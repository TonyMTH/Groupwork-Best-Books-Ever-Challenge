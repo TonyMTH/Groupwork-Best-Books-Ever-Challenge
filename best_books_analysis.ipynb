{
 "cells": [
  {
   "cell_type": "markdown",
   "metadata": {},
   "source": [
    "# ANALYSIS"
   ]
  },
  {
   "cell_type": "code",
   "execution_count": null,
   "metadata": {},
   "outputs": [],
   "source": [
    "import pandas as pd\n",
    "import ast\n",
    "import numpy as np"
   ]
  },
  {
   "cell_type": "markdown",
   "metadata": {},
   "source": [
    "# Load the csv file"
   ]
  },
  {
   "cell_type": "code",
   "execution_count": null,
   "metadata": {},
   "outputs": [],
   "source": [
    "df = pd.read_csv('best-books.csv') "
   ]
  },
  {
   "cell_type": "markdown",
   "metadata": {},
   "source": [
    "# Change the awards col into num of awards:"
   ]
  },
  {
   "cell_type": "code",
   "execution_count": 49,
   "metadata": {},
   "outputs": [
    {
     "data": {
      "text/html": [
       "<div>\n",
       "<style scoped>\n",
       "    .dataframe tbody tr th:only-of-type {\n",
       "        vertical-align: middle;\n",
       "    }\n",
       "\n",
       "    .dataframe tbody tr th {\n",
       "        vertical-align: top;\n",
       "    }\n",
       "\n",
       "    .dataframe thead th {\n",
       "        text-align: right;\n",
       "    }\n",
       "</style>\n",
       "<table border=\"1\" class=\"dataframe\">\n",
       "  <thead>\n",
       "    <tr style=\"text-align: right;\">\n",
       "      <th></th>\n",
       "      <th>url</th>\n",
       "      <th>title</th>\n",
       "      <th>author</th>\n",
       "      <th>num_reviews</th>\n",
       "      <th>num_ratings</th>\n",
       "      <th>avg_rating</th>\n",
       "      <th>num_pages</th>\n",
       "      <th>original_publish_year</th>\n",
       "      <th>series</th>\n",
       "      <th>genres</th>\n",
       "      <th>awards</th>\n",
       "      <th>places</th>\n",
       "      <th>awards length</th>\n",
       "    </tr>\n",
       "  </thead>\n",
       "  <tbody>\n",
       "    <tr>\n",
       "      <th>0</th>\n",
       "      <td>https://www.goodreads.com/book/show/2767052-th...</td>\n",
       "      <td>The Hunger Games (The Hunger Games, #1)</td>\n",
       "      <td>Suzanne Collins</td>\n",
       "      <td>179510</td>\n",
       "      <td>6995195</td>\n",
       "      <td>4.32</td>\n",
       "      <td>284</td>\n",
       "      <td>2008</td>\n",
       "      <td>True</td>\n",
       "      <td>NaN</td>\n",
       "      <td>['Locus Award Nominee for Best Young Adult Boo...</td>\n",
       "      <td>['District 12, Panem', 'Capitol, Panem', 'Panem']</td>\n",
       "      <td>5</td>\n",
       "    </tr>\n",
       "    <tr>\n",
       "      <th>1</th>\n",
       "      <td>https://www.goodreads.com/book/show/2.Harry_Po...</td>\n",
       "      <td>Harry Potter and the Order of the Phoenix (Har...</td>\n",
       "      <td>J.K. Rowling</td>\n",
       "      <td>48128</td>\n",
       "      <td>2781662</td>\n",
       "      <td>4.50</td>\n",
       "      <td>870</td>\n",
       "      <td>2003</td>\n",
       "      <td>True</td>\n",
       "      <td>NaN</td>\n",
       "      <td>['Bram Stoker Award for Works for Young Reader...</td>\n",
       "      <td>['Hogwarts School of Witchcraft and Wizardry',...</td>\n",
       "      <td>5</td>\n",
       "    </tr>\n",
       "    <tr>\n",
       "      <th>2</th>\n",
       "      <td>https://www.goodreads.com/book/show/2657.To_Ki...</td>\n",
       "      <td>To Kill a Mockingbird</td>\n",
       "      <td>Harper Lee</td>\n",
       "      <td>98678</td>\n",
       "      <td>4978320</td>\n",
       "      <td>4.27</td>\n",
       "      <td>324</td>\n",
       "      <td>1960</td>\n",
       "      <td>False</td>\n",
       "      <td>NaN</td>\n",
       "      <td>['Pulitzer Prize for Fiction (1961)', 'Audie A...</td>\n",
       "      <td>['Maycomb, Alabama', 'Alabama']</td>\n",
       "      <td>4</td>\n",
       "    </tr>\n",
       "    <tr>\n",
       "      <th>3</th>\n",
       "      <td>https://www.goodreads.com/book/show/1885.Pride...</td>\n",
       "      <td>Pride and Prejudice</td>\n",
       "      <td>Jane Austen</td>\n",
       "      <td>79238</td>\n",
       "      <td>3368553</td>\n",
       "      <td>4.27</td>\n",
       "      <td>279</td>\n",
       "      <td>1813</td>\n",
       "      <td>False</td>\n",
       "      <td>NaN</td>\n",
       "      <td>0</td>\n",
       "      <td>['United Kingdom', 'Derbyshire, England', 'Eng...</td>\n",
       "      <td>0</td>\n",
       "    </tr>\n",
       "    <tr>\n",
       "      <th>4</th>\n",
       "      <td>https://www.goodreads.com/book/show/41865.Twil...</td>\n",
       "      <td>Twilight (The Twilight Saga, #1)</td>\n",
       "      <td>Stephenie Meyer</td>\n",
       "      <td>110648</td>\n",
       "      <td>5441218</td>\n",
       "      <td>3.62</td>\n",
       "      <td>387</td>\n",
       "      <td>2005</td>\n",
       "      <td>True</td>\n",
       "      <td>NaN</td>\n",
       "      <td>['Georgia Peach Book Award (2007)', 'Buxtehude...</td>\n",
       "      <td>['Forks, Washington', 'Phoenix, Arizona', 'Was...</td>\n",
       "      <td>5</td>\n",
       "    </tr>\n",
       "  </tbody>\n",
       "</table>\n",
       "</div>"
      ],
      "text/plain": [
       "                                                 url  \\\n",
       "0  https://www.goodreads.com/book/show/2767052-th...   \n",
       "1  https://www.goodreads.com/book/show/2.Harry_Po...   \n",
       "2  https://www.goodreads.com/book/show/2657.To_Ki...   \n",
       "3  https://www.goodreads.com/book/show/1885.Pride...   \n",
       "4  https://www.goodreads.com/book/show/41865.Twil...   \n",
       "\n",
       "                                               title           author  \\\n",
       "0            The Hunger Games (The Hunger Games, #1)  Suzanne Collins   \n",
       "1  Harry Potter and the Order of the Phoenix (Har...     J.K. Rowling   \n",
       "2                              To Kill a Mockingbird       Harper Lee   \n",
       "3                                Pride and Prejudice      Jane Austen   \n",
       "4                   Twilight (The Twilight Saga, #1)  Stephenie Meyer   \n",
       "\n",
       "   num_reviews  num_ratings  avg_rating  num_pages  original_publish_year  \\\n",
       "0       179510      6995195        4.32        284                   2008   \n",
       "1        48128      2781662        4.50        870                   2003   \n",
       "2        98678      4978320        4.27        324                   1960   \n",
       "3        79238      3368553        4.27        279                   1813   \n",
       "4       110648      5441218        3.62        387                   2005   \n",
       "\n",
       "   series  genres                                             awards  \\\n",
       "0    True     NaN  ['Locus Award Nominee for Best Young Adult Boo...   \n",
       "1    True     NaN  ['Bram Stoker Award for Works for Young Reader...   \n",
       "2   False     NaN  ['Pulitzer Prize for Fiction (1961)', 'Audie A...   \n",
       "3   False     NaN                                                  0   \n",
       "4    True     NaN  ['Georgia Peach Book Award (2007)', 'Buxtehude...   \n",
       "\n",
       "                                              places  awards length  \n",
       "0  ['District 12, Panem', 'Capitol, Panem', 'Panem']              5  \n",
       "1  ['Hogwarts School of Witchcraft and Wizardry',...              5  \n",
       "2                    ['Maycomb, Alabama', 'Alabama']              4  \n",
       "3  ['United Kingdom', 'Derbyshire, England', 'Eng...              0  \n",
       "4  ['Forks, Washington', 'Phoenix, Arizona', 'Was...              5  "
      ]
     },
     "execution_count": 49,
     "metadata": {},
     "output_type": "execute_result"
    }
   ],
   "source": [
    "df2 = df.head(50)\n",
    "df2 = df2.replace({'awards': {np.nan: 0}})\n",
    "\n",
    "d = []\n",
    "\n",
    "for i in df2.index:\n",
    "    #df.loc[i, \"awards\"] = len( ast.literal_eval(df.loc[i, \"awards\"]) )\n",
    "    # print(df.loc[i, \"awards\"])\n",
    "    if df2.loc[i, \"awards\"] == 0:\n",
    "        d.append(0)\n",
    "    else:\n",
    "        d.append( len( ast.literal_eval(df2.loc[i, \"awards\"]) ) )\n",
    "\n",
    "df2['awards length'] = d"
   ]
  },
  {
   "cell_type": "markdown",
   "metadata": {},
   "source": [
    "# min max normalization"
   ]
  },
  {
   "cell_type": "code",
   "execution_count": null,
   "metadata": {},
   "outputs": [],
   "source": [
    "df_min_max = df2['avg_rating'].copy()\n",
    "def min_max_normalization(df_min_max):\n",
    "    df_min_max = 1 + (df_min_max - df_min_max.min()) / (df_min_max.max() - df_min_max.min()) * 9\n",
    "    return round(df_min_max, 2)\n",
    "\n",
    "minmax_norm_ratings = min_max_normalization(df_min_max)\n",
    "print(minmax_norm_ratings)\n",
    "df2['minmax_norm_ratings'] = minmax_norm_ratings\n",
    "print(df2)\n"
   ]
  },
  {
   "cell_type": "markdown",
   "metadata": {},
   "source": [
    "# mean normalization"
   ]
  },
  {
   "cell_type": "code",
   "execution_count": null,
   "metadata": {},
   "outputs": [],
   "source": [
    "def mean_normalization(df_min_max):\n",
    "    df_min_max = 1 + (df_min_max - df_min_max.mean()) / (df_min_max.max() - df_min_max.min()) * 9\n",
    "    return round(df_min_max, 2)\n",
    "\n",
    "mean_norm_ratings = mean_normalization(df_min_max)\n",
    "df2['mean_norm_ratings'] = mean_norm_ratings\n",
    "print(df2)"
   ]
  },
  {
   "cell_type": "markdown",
   "metadata": {},
   "source": [
    "# sort by minmax_norm_ratings Given Author"
   ]
  },
  {
   "cell_type": "code",
   "execution_count": null,
   "metadata": {},
   "outputs": [],
   "source": [
    "def check_author(df, author):\n",
    "    df = df.loc[df.author == author]\n",
    "    df.sort_values(by=['minmax_norm_ratings'], ascending=[False])\n",
    "    return df\n",
    "\n",
    "check_author(df2, 'J.K. Rowling')"
   ]
  },
  {
   "cell_type": "markdown",
   "metadata": {},
   "source": [
    "# sort by publishing year and get mean of minmax_norm_ratings"
   ]
  },
  {
   "cell_type": "code",
   "execution_count": null,
   "metadata": {},
   "outputs": [],
   "source": [
    "df2.groupby('original_publish_year')['minmax_norm_ratings'].mean()"
   ]
  }
 ],
 "metadata": {
  "interpreter": {
   "hash": "d6e128dd2cf9bb12ecf94668e33e1546608d302a4f44df6f6afa2b8f73a532e1"
  },
  "kernelspec": {
   "display_name": "Python 3.9.7 64-bit ('Strive': conda)",
   "name": "python3"
  },
  "language_info": {
   "codemirror_mode": {
    "name": "ipython",
    "version": 3
   },
   "file_extension": ".py",
   "mimetype": "text/x-python",
   "name": "python",
   "nbconvert_exporter": "python",
   "pygments_lexer": "ipython3",
   "version": "3.9.7"
  }
 },
 "nbformat": 4,
 "nbformat_minor": 4
}
